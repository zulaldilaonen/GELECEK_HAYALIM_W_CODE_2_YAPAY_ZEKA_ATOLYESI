{
 "cells": [
  {
   "cell_type": "code",
   "execution_count": 2,
   "id": "dca6c256",
   "metadata": {},
   "outputs": [
    {
     "name": "stdout",
     "output_type": "stream",
     "text": [
      "3\n",
      "Hi-Kod\n",
      "4.7\n",
      "[9, '3', 8.4, 'Hi-Kod']\n",
      "[8.4, 'Hi-Kod', 'False', 4.7]\n"
     ]
    }
   ],
   "source": [
    "# Ödev 1: Indexing ve Slicing işlemleri\n",
    "\n",
    "liste = [\"Python\", True, 9, \"3\", 8.4, \"Hi-Kod\", \"False\", 4.7]\n",
    "\n",
    "# \"3\" değerine ulaşmak için indexleme\n",
    "\n",
    "print(liste[3])\n",
    "\n",
    "\n",
    "# \"Hi-Kod\" değerine ulaşmak için indexleme\n",
    "\n",
    "print(liste[5])  \n",
    "\n",
    "\n",
    "\n",
    "# 4.7 değerine ulaşmak için indexleme\n",
    "\n",
    "print(liste[7]) \n",
    "\n",
    "\n",
    "\n",
    "# 9, \"3\", 8.4, \"Hi-Kod\" değerlerine slicing\n",
    "\n",
    "print(liste[2:6]) \n",
    "\n",
    "\n",
    "\n",
    "# 8.4, \"Hi-Kod\", \"False\", 4.7 değerlerine slicing\n",
    "\n",
    "print(liste[4:])\n",
    "\n"
   ]
  },
  {
   "cell_type": "code",
   "execution_count": 3,
   "id": "e89a098c",
   "metadata": {},
   "outputs": [
    {
     "name": "stdout",
     "output_type": "stream",
     "text": [
      "String türündeki elemanlar: ['Python', '3', 'Hi-Kod', 'False']\n"
     ]
    }
   ],
   "source": [
    "# Ödev 2: String veri tipindekileri yeni listeye aktarma\n",
    "\n",
    "yeni_liste = []\n",
    "\n",
    "for eleman in liste:\n",
    "    if type(eleman) == str:\n",
    "        yeni_liste.append(eleman)\n",
    "\n",
    "print(\"String türündeki elemanlar:\", yeni_liste)"
   ]
  },
  {
   "cell_type": "code",
   "execution_count": 4,
   "id": "f7de071a",
   "metadata": {},
   "outputs": [
    {
     "name": "stdout",
     "output_type": "stream",
     "text": [
      "0. indexte bulunan meyve: Elma\n",
      "1. indexte bulunan meyve: Armut\n",
      "2. indexte bulunan meyve: Muz\n",
      "3. indexte bulunan meyve: Kivi\n"
     ]
    }
   ],
   "source": [
    "# Ödev 3: Enumerate kullanımı örneği\n",
    "\n",
    "meyveler = [\"Elma\", \"Armut\", \"Muz\", \"Kivi\"]\n",
    "\n",
    "for index, meyve in enumerate(meyveler):\n",
    "    print(\"{}. indexte bulunan meyve: {}\".format(index, meyve))"
   ]
  }
 ],
 "metadata": {
  "kernelspec": {
   "display_name": "Python 3",
   "language": "python",
   "name": "python3"
  },
  "language_info": {
   "codemirror_mode": {
    "name": "ipython",
    "version": 3
   },
   "file_extension": ".py",
   "mimetype": "text/x-python",
   "name": "python",
   "nbconvert_exporter": "python",
   "pygments_lexer": "ipython3",
   "version": "3.10.12"
  }
 },
 "nbformat": 4,
 "nbformat_minor": 5
}
