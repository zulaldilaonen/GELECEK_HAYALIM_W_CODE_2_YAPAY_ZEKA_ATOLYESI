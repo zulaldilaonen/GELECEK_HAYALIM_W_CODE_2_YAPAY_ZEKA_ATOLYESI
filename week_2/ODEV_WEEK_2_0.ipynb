{
 "cells": [
  {
   "cell_type": "code",
   "execution_count": null,
   "id": "c12e4b13",
   "metadata": {},
   "outputs": [
    {
     "name": "stdout",
     "output_type": "stream",
     "text": [
      "Vergi kesintisi: 27000.0 TL\n",
      "Yeni maaşınız: 63000.0 TL\n"
     ]
    }
   ],
   "source": [
    "#Ödev 1: vergi hesaplama\n",
    "\n",
    "maas = float(input(\"Lütfen maaşınızı girin: \"))\n",
    "\n",
    "if maas <= 10000:\n",
    "    kesinti_orani = 0.05\n",
    "elif maas <= 25000:\n",
    "    kesinti_orani = 0.10\n",
    "elif maas <= 45000:\n",
    "    kesinti_orani = 0.25\n",
    "else:\n",
    "    kesinti_orani = 0.30\n",
    "\n",
    "kesilen = maas * kesinti_orani\n",
    "yeni_maas = maas - kesilen\n",
    "\n",
    "print(f\"Vergi kesintisi: {kesilen} TL\")\n",
    "print(f\"Yeni maaşınız: {yeni_maas} TL\")\n"
   ]
  },
  {
   "cell_type": "code",
   "execution_count": 3,
   "id": "4c01aa0c",
   "metadata": {},
   "outputs": [
    {
     "name": "stdout",
     "output_type": "stream",
     "text": [
      "Şifreniz en az 6 karakter olmalı!\n"
     ]
    }
   ],
   "source": [
    "#Ödev 2: kullanıcı kaydı\n",
    "\n",
    "kullanici_adi = input(\"Kullanıcı adınızı girin: \")\n",
    "sifre = input(\"Şifrenizi oluşturun: \")\n",
    "\n",
    "if len(sifre) >= 6:\n",
    "    print(\"Hesabınız oluşturuldu.\")\n",
    "else:\n",
    "    print(\"Şifreniz en az 6 karakter olmalı!\")\n"
   ]
  },
  {
   "cell_type": "code",
   "execution_count": 4,
   "id": "5cccd466",
   "metadata": {},
   "outputs": [
    {
     "name": "stdout",
     "output_type": "stream",
     "text": [
      "Lütfen girdiğiniz şifre 5 haneden az, 10 haneden fazla olmasın!\n",
      "Lütfen girdiğiniz şifre 5 haneden az, 10 haneden fazla olmasın!\n",
      "Lütfen girdiğiniz şifre 5 haneden az, 10 haneden fazla olmasın!\n",
      "Hesabınız oluşturuldu.\n"
     ]
    }
   ],
   "source": [
    "#Ödev 3: kullanıcı kaydı ve şifre uzunluğu kontrolü\n",
    "\n",
    "while True:\n",
    "    sifre = input(\"Şifrenizi oluşturun (5-10 karakter arasında): \")\n",
    "\n",
    "    if 5 <= len(sifre) <= 10:\n",
    "        print(\"Hesabınız oluşturuldu.\")\n",
    "        break\n",
    "    else:\n",
    "        print(\"Lütfen girdiğiniz şifre 5 haneden az, 10 haneden fazla olmasın!\")\n"
   ]
  },
  {
   "cell_type": "code",
   "execution_count": 7,
   "id": "34826142",
   "metadata": {},
   "outputs": [
    {
     "name": "stdout",
     "output_type": "stream",
     "text": [
      "Kullanıcı adı veya şifre hatalı!\n",
      "Kalan hakkınız: 2\n",
      "Kullanıcı adı veya şifre hatalı!\n",
      "Kalan hakkınız: 1\n",
      "Kullanıcı adı veya şifre hatalı!\n",
      "Giriş hakkınız bitti!\n"
     ]
    }
   ],
   "source": [
    "#Ödev 4: kullanıcı girişi (şifre ve kullanıcı adı kontrolü)\n",
    "\n",
    "dogru_isim = \"zulaldila\"\n",
    "dogru_sifre = \"zulal123\"\n",
    "\n",
    "hak = 3\n",
    "\n",
    "while hak > 0:\n",
    "    isim = input(\"Kullanıcı adınızı girin: \")\n",
    "    sifre = input(\"Şifrenizi girin: \")\n",
    "\n",
    "    if isim == dogru_isim and sifre == dogru_sifre:\n",
    "        print(\"Giriş yapıldı.\")\n",
    "        break\n",
    "    else:\n",
    "        hak -= 1\n",
    "        print(\"Kullanıcı adı veya şifre hatalı!\")\n",
    "        if hak > 0:\n",
    "            print(f\"Kalan hakkınız: {hak}\")\n",
    "        else:\n",
    "            print(\"Giriş hakkınız bitti!\")\n",
    "\n"
   ]
  }
 ],
 "metadata": {
  "kernelspec": {
   "display_name": "Python 3",
   "language": "python",
   "name": "python3"
  },
  "language_info": {
   "codemirror_mode": {
    "name": "ipython",
    "version": 3
   },
   "file_extension": ".py",
   "mimetype": "text/x-python",
   "name": "python",
   "nbconvert_exporter": "python",
   "pygments_lexer": "ipython3",
   "version": "3.10.12"
  }
 },
 "nbformat": 4,
 "nbformat_minor": 5
}
