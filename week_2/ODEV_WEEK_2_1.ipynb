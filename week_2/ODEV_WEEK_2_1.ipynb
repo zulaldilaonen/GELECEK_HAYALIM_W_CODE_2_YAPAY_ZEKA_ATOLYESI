{
 "cells": [
  {
   "cell_type": "code",
   "execution_count": null,
   "id": "93116acb",
   "metadata": {},
   "outputs": [
    {
     "name": "stdout",
     "output_type": "stream",
     "text": [
      "Dairenin alanı: 78.5\n"
     ]
    }
   ],
   "source": [
    "# Ödev 1: Dairenin alanını hesaplama\n",
    "\n",
    "def daire_alani_hesapla(pi, yaricap):\n",
    "    alan = pi * yaricap * yaricap\n",
    "    print(f\"Dairenin alanı: {alan}\")\n",
    "\n",
    "daire_alani_hesapla(3.14, 5)"
   ]
  },
  {
   "cell_type": "code",
   "execution_count": null,
   "id": "334c2eba",
   "metadata": {},
   "outputs": [
    {
     "name": "stdout",
     "output_type": "stream",
     "text": [
      "Girdiğiniz 5 sayısının faktöriyeli: 120\n"
     ]
    }
   ],
   "source": [
    "# Ödev 2: Faktöriyel hesaplama\n",
    "\n",
    "def faktoriyel(sayi):\n",
    "    sonuc = 1\n",
    "    for i in range(1, sayi + 1):\n",
    "        sonuc *= i\n",
    "    print(\"Girdiğiniz {} sayısının faktöriyeli: {}\".format(sayi, sonuc))\n",
    "\n",
    "faktoriyel(5)\n"
   ]
  },
  {
   "cell_type": "code",
   "execution_count": null,
   "id": "84a39f61",
   "metadata": {},
   "outputs": [
    {
     "name": "stdout",
     "output_type": "stream",
     "text": [
      "30\n"
     ]
    }
   ],
   "source": [
    "# Ödev 3: Yaş hesaplama\n",
    "\n",
    "def yas_hesapla(dogum_yili):\n",
    "    from datetime import datetime\n",
    "    mevcut_yil = datetime.now().year\n",
    "    return mevcut_yil - dogum_yili\n",
    "\n",
    "print(yas_hesapla(1995))"
   ]
  },
  {
   "cell_type": "code",
   "execution_count": 4,
   "id": "93b6715d",
   "metadata": {},
   "outputs": [
    {
     "name": "stdout",
     "output_type": "stream",
     "text": [
      "Zülal, emekliliğine 41 yıl kaldı.\n"
     ]
    }
   ],
   "source": [
    "# Ödev 4: Emeklilik durumu hesaplama\n",
    "\n",
    "def emeklilik_durumu(isim, dogum_yili):\n",
    "    yas = yas_hesapla(dogum_yili)\n",
    "    if yas >= 65:\n",
    "        print(\"Emekli oldunuz.\")\n",
    "    else:\n",
    "        kalan_yil = 65 - yas\n",
    "        print(f\"{isim}, emekliliğine {kalan_yil} yıl kaldı.\")\n",
    "\n",
    "emeklilik_durumu(\"Zülal\", 2001)"
   ]
  }
 ],
 "metadata": {
  "kernelspec": {
   "display_name": "Python 3",
   "language": "python",
   "name": "python3"
  },
  "language_info": {
   "codemirror_mode": {
    "name": "ipython",
    "version": 3
   },
   "file_extension": ".py",
   "mimetype": "text/x-python",
   "name": "python",
   "nbconvert_exporter": "python",
   "pygments_lexer": "ipython3",
   "version": "3.10.12"
  }
 },
 "nbformat": 4,
 "nbformat_minor": 5
}
