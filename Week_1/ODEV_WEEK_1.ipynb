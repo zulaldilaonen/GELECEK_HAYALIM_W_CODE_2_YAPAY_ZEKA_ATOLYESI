{
 "cells": [
  {
   "cell_type": "code",
   "execution_count": null,
   "id": "c003c456-6679-4030-bd6a-365729782258",
   "metadata": {},
   "outputs": [
    {
     "name": "stdout",
     "output_type": "stream",
     "text": [
      "Başlangıç tipi: <class 'str'>\n",
      "int'e dönüştürüldü: 42 <class 'int'>\n",
      "float'a dönüştürüldü: 42.0 <class 'float'>\n",
      "str'e dönüştürüldü: 42.0 <class 'str'>\n"
     ]
    }
   ],
   "source": [
    "# Ödev 1\n",
    "sayi = \"42\"\n",
    "print(\"Başlangıç tipi:\", type(sayi))\n",
    "\n",
    "sayi_int = int(sayi)\n",
    "print(\"int dönüştürüldü:\", sayi_int, type(sayi_int))\n",
    "\n",
    "sayi_float = float(sayi_int)\n",
    "print(\"float dönüştürüldü:\", sayi_float, type(sayi_float))\n",
    "\n",
    "sayi_str = str(sayi_float)\n",
    "print(\"str dönüştürüldü:\", sayi_str, type(sayi_str))\n"
   ]
  },
  {
   "cell_type": "code",
   "execution_count": 3,
   "id": "5cbf0ab4-3e66-4bd2-80b1-b4a334418c3f",
   "metadata": {},
   "outputs": [
    {
     "name": "stdout",
     "output_type": "stream",
     "text": [
      "Ali < Ayşe mi? ve Mehmet > Ali mi?   :    True\n",
      "Ayşe Mehmet'e eşit mi? veya Ali > Mehmet mi? :    False\n",
      "Ali Mehmet'ten büyük değil mi?   :    True\n"
     ]
    }
   ],
   "source": [
    "# Ödev 2\n",
    "ali = 24\n",
    "ayse = 30\n",
    "mehmet = 27\n",
    "\n",
    "print(\"Ali < Ayşe mi? ve Mehmet > Ali mi? : \", ali < ayse and mehmet > ali)\n",
    "print(\"Ayşe Mehmet'e eşit mi? veya Ali > Mehmet mi? :    \", ayse == mehmet or ali > mehmet)\n",
    "print(\"Ali Mehmet'ten büyük değil mi?   :   \", not (ali > mehmet))\n"
   ]
  },
  {
   "cell_type": "code",
   "execution_count": 4,
   "id": "961ebf72-85d6-421b-8526-7e325186b699",
   "metadata": {},
   "outputs": [
    {
     "name": "stdout",
     "output_type": "stream",
     "text": [
      "Birinci sayıyı girin:  12\n",
      "İkinci sayıyı girin:  15\n"
     ]
    },
    {
     "name": "stdout",
     "output_type": "stream",
     "text": [
      "Toplam: 27.0\n",
      "Fark: -3.0\n",
      "Çarpım: 180.0\n",
      "Bölüm: 0.8\n"
     ]
    }
   ],
   "source": [
    "# Ödev 3\n",
    "sayi1 = float(input(\"Birinci sayıyı girin: \"))\n",
    "sayi2 = float(input(\"İkinci sayıyı girin: \"))\n",
    "\n",
    "print(\"Toplam:\", sayi1 + sayi2)\n",
    "print(\"Fark:\", sayi1 - sayi2)\n",
    "print(\"Çarpım:\", sayi1 * sayi2)\n",
    "\n",
    "# Sıfıra bölme kontrolü\n",
    "if sayi2 != 0:\n",
    "    print(\"Bölüm:\", sayi1 / sayi2)\n",
    "else:\n",
    "    print(\"İkinci sayı sıfır olamaz, bölme tanımsız.\")\n"
   ]
  },
  {
   "cell_type": "code",
   "execution_count": 5,
   "id": "c2818783-b6e0-4407-acbc-eb29e1119895",
   "metadata": {},
   "outputs": [
    {
     "name": "stdout",
     "output_type": "stream",
     "text": [
      "Adınız:  Zülal\n",
      "Yaşınız:  23\n",
      "Şehriniz:  Sivas\n",
      "Mesleğiniz:  Öğrenci\n"
     ]
    },
    {
     "name": "stdout",
     "output_type": "stream",
     "text": [
      "Merhaba Zülal, 23 yaşındasın. Sivas şehrinde Öğrenci olarak çalışıyorsun.\n"
     ]
    }
   ],
   "source": [
    "# Ödev 4\n",
    "isim = input(\"Adınız: \")\n",
    "yas = input(\"Yaşınız: \")\n",
    "sehir = input(\"Şehriniz: \")\n",
    "meslek = input(\"Mesleğiniz: \")\n",
    "\n",
    "print(f\"Merhaba {isim}, {yas} yaşındasın. {sehir} şehrinde {meslek} olarak çalışıyorsun.\")\n"
   ]
  },
  {
   "cell_type": "code",
   "execution_count": 6,
   "id": "dbb5e36d-8f7d-47ba-955f-da88091ea23c",
   "metadata": {},
   "outputs": [
    {
     "name": "stdout",
     "output_type": "stream",
     "text": [
      "Kelimeler: Hi-Kod Veri Bilimi Atölyesi\n",
      "BÜYÜK: HI-KOD VERI BILIMI ATÖLYESI\n",
      "küçük: hi-kod veri bilimi atölyesi\n",
      "Çift sayılar: 02468\n",
      "Tek sayılar: 13579\n"
     ]
    }
   ],
   "source": [
    "# Ödev 5\n",
    "\n",
    "ifade = \"Hi-Kod Veri Bilimi Atölyesi\"\n",
    "\n",
    "# Kelimeleri seç\n",
    "kelime1 = ifade[0:6]    # \"Hi-Kod\"\n",
    "kelime2 = ifade[7:11]   # \"Veri\"\n",
    "kelime3 = ifade[12:18]  # \"Bilimi\"\n",
    "kelime4 = ifade[19:]    # \"Atölyesi\"\n",
    "\n",
    "print(\"Kelimeler:\", kelime1, kelime2, kelime3, kelime4)\n",
    "\n",
    "# Büyük harfe çevir\n",
    "print(\"BÜYÜK:\", ifade.upper())\n",
    "\n",
    "# Küçük harfe çevir\n",
    "print(\"küçük:\", ifade.lower())\n",
    "\n",
    "# Rakamlarla işlem\n",
    "rakamlar = \"0123456789\"\n",
    "ciftler = rakamlar[::2]   # 0, 2, 4, 6, 8\n",
    "tekler = rakamlar[1::2]   # 1, 3, 5, 7, 9\n",
    "\n",
    "print(\"Çift sayılar:\", ciftler)\n",
    "print(\"Tek sayılar:\", tekler)\n"
   ]
  },
  {
   "cell_type": "code",
   "execution_count": null,
   "id": "66250733-5c04-4ef1-b00f-b0910d8036d1",
   "metadata": {},
   "outputs": [],
   "source": []
  }
 ],
 "metadata": {
  "kernelspec": {
   "display_name": "anaconda-2024.02-py310",
   "language": "python",
   "name": "conda-env-anaconda-2024.02-py310-py"
  },
  "language_info": {
   "codemirror_mode": {
    "name": "ipython",
    "version": 3
   },
   "file_extension": ".py",
   "mimetype": "text/x-python",
   "name": "python",
   "nbconvert_exporter": "python",
   "pygments_lexer": "ipython3",
   "version": "3.10.14"
  }
 },
 "nbformat": 4,
 "nbformat_minor": 5
}
